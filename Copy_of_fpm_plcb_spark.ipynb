{
  "nbformat": 4,
  "nbformat_minor": 0,
  "metadata": {
    "colab": {
      "name": "Copy of fpm_plcb_spark.ipynb",
      "provenance": [],
      "collapsed_sections": [],
      "toc_visible": true,
      "machine_shape": "hm",
      "authorship_tag": "ABX9TyNBKLv6SLvq52cJvHrSeOlm",
      "include_colab_link": true
    },
    "kernelspec": {
      "name": "python3",
      "display_name": "Python 3"
    },
    "accelerator": "GPU"
  },
  "cells": [
    {
      "cell_type": "markdown",
      "metadata": {
        "id": "view-in-github",
        "colab_type": "text"
      },
      "source": [
        "<a href=\"https://colab.research.google.com/github/ZhenghaoXiao32/Frequent-Pattern-Mining-for-PLCB/blob/master/Copy_of_fpm_plcb_spark.ipynb\" target=\"_parent\"><img src=\"https://colab.research.google.com/assets/colab-badge.svg\" alt=\"Open In Colab\"/></a>"
      ]
    },
    {
      "cell_type": "markdown",
      "metadata": {
        "id": "KjsCLk4ueMVK",
        "colab_type": "text"
      },
      "source": [
        "# Modules and Dependencies"
      ]
    },
    {
      "cell_type": "code",
      "metadata": {
        "id": "TTh7Tn2wcV3L",
        "colab_type": "code",
        "outputId": "5fc982f1-00bc-4c26-d2c0-522f5c4eaa81",
        "colab": {
          "base_uri": "https://localhost:8080/",
          "height": 445
        }
      },
      "source": [
        "# Install spark-related dependencies\n",
        "!apt-get install openjdk-8-jdk-headless -qq > /dev/null\n",
        "!wget -c http://apache.osuosl.org/spark/spark-2.4.5/spark-2.4.5-bin-hadoop2.7.tgz\n",
        "!tar xf spark-2.4.5-bin-hadoop2.7.tgz\n",
        "\n",
        "!pip install -q findspark\n",
        "!pip install pyspark"
      ],
      "execution_count": 1,
      "outputs": [
        {
          "output_type": "stream",
          "text": [
            "--2020-05-08 16:05:09--  http://apache.osuosl.org/spark/spark-2.4.5/spark-2.4.5-bin-hadoop2.7.tgz\n",
            "Resolving apache.osuosl.org (apache.osuosl.org)... 140.211.166.134, 64.50.236.52, 64.50.233.100, ...\n",
            "Connecting to apache.osuosl.org (apache.osuosl.org)|140.211.166.134|:80... connected.\n",
            "HTTP request sent, awaiting response... 200 OK\n",
            "Length: 232530699 (222M) [application/x-gzip]\n",
            "Saving to: ‘spark-2.4.5-bin-hadoop2.7.tgz’\n",
            "\n",
            "spark-2.4.5-bin-had 100%[===================>] 221.76M  54.1MB/s    in 10s     \n",
            "\n",
            "2020-05-08 16:05:19 (21.7 MB/s) - ‘spark-2.4.5-bin-hadoop2.7.tgz’ saved [232530699/232530699]\n",
            "\n",
            "Collecting pyspark\n",
            "\u001b[?25l  Downloading https://files.pythonhosted.org/packages/9a/5a/271c416c1c2185b6cb0151b29a91fff6fcaed80173c8584ff6d20e46b465/pyspark-2.4.5.tar.gz (217.8MB)\n",
            "\u001b[K     |████████████████████████████████| 217.8MB 14kB/s \n",
            "\u001b[?25hCollecting py4j==0.10.7\n",
            "\u001b[?25l  Downloading https://files.pythonhosted.org/packages/e3/53/c737818eb9a7dc32a7cd4f1396e787bd94200c3997c72c1dbe028587bd76/py4j-0.10.7-py2.py3-none-any.whl (197kB)\n",
            "\u001b[K     |████████████████████████████████| 204kB 43.3MB/s \n",
            "\u001b[?25hBuilding wheels for collected packages: pyspark\n",
            "  Building wheel for pyspark (setup.py) ... \u001b[?25l\u001b[?25hdone\n",
            "  Created wheel for pyspark: filename=pyspark-2.4.5-py2.py3-none-any.whl size=218257927 sha256=598ac7991ebacc2a64a933ad0bca1965d3e06c6c20f217a9e194d54cadc9509a\n",
            "  Stored in directory: /root/.cache/pip/wheels/bf/db/04/61d66a5939364e756eb1c1be4ec5bdce6e04047fc7929a3c3c\n",
            "Successfully built pyspark\n",
            "Installing collected packages: py4j, pyspark\n",
            "Successfully installed py4j-0.10.7 pyspark-2.4.5\n"
          ],
          "name": "stdout"
        }
      ]
    },
    {
      "cell_type": "code",
      "metadata": {
        "id": "vY0XyjdckKJZ",
        "colab_type": "code",
        "colab": {}
      },
      "source": [
        "# Set up required environment variables\n",
        "import os\n",
        "os.environ[\"JAVA_HOME\"] = \"/usr/lib/jvm/java-8-openjdk-amd64\"\n",
        "os.environ[\"SPARK_HOME\"] = \"/content/spark-2.4.5-bin-hadoop2.7\""
      ],
      "execution_count": 0,
      "outputs": []
    },
    {
      "cell_type": "code",
      "metadata": {
        "id": "ILq6HV7ukQpP",
        "colab_type": "code",
        "outputId": "1d1caf91-e7b3-4219-eb44-3bc76b4be623",
        "colab": {
          "base_uri": "https://localhost:8080/",
          "height": 122
        }
      },
      "source": [
        "# Point Colaboratory to your Google Drive\n",
        "from google.colab import drive\n",
        "drive.mount('/content/gdrive')"
      ],
      "execution_count": 3,
      "outputs": [
        {
          "output_type": "stream",
          "text": [
            "Go to this URL in a browser: https://accounts.google.com/o/oauth2/auth?client_id=947318989803-6bn6qk8qdgf4n4g3pfee6491hc0brc4i.apps.googleusercontent.com&redirect_uri=urn%3aietf%3awg%3aoauth%3a2.0%3aoob&response_type=code&scope=email%20https%3a%2f%2fwww.googleapis.com%2fauth%2fdocs.test%20https%3a%2f%2fwww.googleapis.com%2fauth%2fdrive%20https%3a%2f%2fwww.googleapis.com%2fauth%2fdrive.photos.readonly%20https%3a%2f%2fwww.googleapis.com%2fauth%2fpeopleapi.readonly\n",
            "\n",
            "Enter your authorization code:\n",
            "··········\n",
            "Mounted at /content/gdrive\n"
          ],
          "name": "stdout"
        }
      ]
    },
    {
      "cell_type": "markdown",
      "metadata": {
        "id": "wTSo_1PahhNK",
        "colab_type": "text"
      },
      "source": [
        "# Data Preparation"
      ]
    },
    {
      "cell_type": "code",
      "metadata": {
        "id": "pl-nHsrGktEG",
        "colab_type": "code",
        "colab": {}
      },
      "source": [
        "from pyspark import SparkContext\n",
        "from pyspark.sql import SparkSession\n",
        "import pandas as pd"
      ],
      "execution_count": 0,
      "outputs": []
    },
    {
      "cell_type": "code",
      "metadata": {
        "id": "IoWN3r3Zm7qb",
        "colab_type": "code",
        "colab": {}
      },
      "source": [
        "import matplotlib.pyplot as plt\n",
        "% matplotlib inline"
      ],
      "execution_count": 0,
      "outputs": []
    },
    {
      "cell_type": "code",
      "metadata": {
        "id": "uBuXdcu3eg8H",
        "colab_type": "code",
        "colab": {}
      },
      "source": [
        "# Start SparkSession\n",
        "app_name = 'PLCB_FPM'\n",
        "spark_url = 'local[*]'\n",
        "spark = SparkSession.builder.appName(app_name).master(spark_url).getOrCreate()\n",
        "sc = spark.sparkContext"
      ],
      "execution_count": 0,
      "outputs": []
    },
    {
      "cell_type": "markdown",
      "metadata": {
        "id": "7jVeSfClijFB",
        "colab_type": "text"
      },
      "source": [
        "## Load data"
      ]
    },
    {
      "cell_type": "code",
      "metadata": {
        "id": "J3dCwHo_P1FD",
        "colab_type": "code",
        "colab": {}
      },
      "source": [
        "sales_csv = '/content/gdrive/My Drive/PLCB/sales.csv'\n",
        "sales_txn = '/content/gdrive/My Drive/PLCB/SalesTransactionFY2018'\n",
        "txn_item = '/content/gdrive/My Drive/PLCB/txn_item.txt'\n",
        "product_csv = '/content/gdrive/My Drive/PLCB/product.csv'"
      ],
      "execution_count": 0,
      "outputs": []
    },
    {
      "cell_type": "code",
      "metadata": {
        "id": "GdhXoR7-Cou9",
        "colab_type": "code",
        "colab": {}
      },
      "source": [
        "# extract the two columns we needed from the text file\n",
        "if not os.path.exists(txn_item):\n",
        "  with open('SalesTransactionFY2018', 'r') as fin:\n",
        "    with open('txn_item.txt', 'w') as fout:\n",
        "      while True:\n",
        "        lines = fin.readlines(100000)\n",
        "        if not lines:\n",
        "          break\n",
        "        for line in lines:\n",
        "          fout.write(line.split('|')[0] + ',' + line.split('|')[3] + '\\n')"
      ],
      "execution_count": 0,
      "outputs": []
    },
    {
      "cell_type": "code",
      "metadata": {
        "id": "yOGjj19MDGu2",
        "colab_type": "code",
        "colab": {}
      },
      "source": [
        "from pyspark.sql.functions import *\n",
        "from pyspark.sql.types import *"
      ],
      "execution_count": 0,
      "outputs": []
    },
    {
      "cell_type": "code",
      "metadata": {
        "id": "0xAI_iqCavSF",
        "colab_type": "code",
        "colab": {}
      },
      "source": [
        "# read txn_item\n",
        "# set schema\n",
        "schema = StructType([StructField(\"transaction_id\", StringType(), True), StructField(\"item_key\", StringType(), True)])\n",
        "\n",
        "txn_ids = spark.read.csv(txn_item, header=False, schema=schema)"
      ],
      "execution_count": 0,
      "outputs": []
    },
    {
      "cell_type": "code",
      "metadata": {
        "id": "ScsYBkuWHLcv",
        "colab_type": "code",
        "outputId": "a7e507db-144b-43ce-c2a0-ef470b5b6ab3",
        "colab": {
          "base_uri": "https://localhost:8080/",
          "height": 85
        }
      },
      "source": [
        "txn_ids.printSchema()"
      ],
      "execution_count": 0,
      "outputs": [
        {
          "output_type": "stream",
          "text": [
            "root\n",
            " |-- transaction_id: string (nullable = true)\n",
            " |-- item_key: string (nullable = true)\n",
            "\n"
          ],
          "name": "stdout"
        }
      ]
    },
    {
      "cell_type": "code",
      "metadata": {
        "id": "IxRBPCeMPnYx",
        "colab_type": "code",
        "outputId": "d3062e07-3db6-4770-a5de-838364601e9b",
        "colab": {
          "base_uri": "https://localhost:8080/",
          "height": 204
        }
      },
      "source": [
        "txn_ids.show(5)\n"
      ],
      "execution_count": 0,
      "outputs": [
        {
          "output_type": "stream",
          "text": [
            "+--------------+--------+\n",
            "|transaction_id|item_key|\n",
            "+--------------+--------+\n",
            "|   25667401670|  314816|\n",
            "|   25611070503|  488821|\n",
            "|   25656710703|    1877|\n",
            "|   25658029659|  441911|\n",
            "|   25643984320|  314685|\n",
            "+--------------+--------+\n",
            "only showing top 5 rows\n",
            "\n"
          ],
          "name": "stdout"
        }
      ]
    },
    {
      "cell_type": "code",
      "metadata": {
        "id": "fHmRKFeZImWK",
        "colab_type": "code",
        "colab": {}
      },
      "source": [
        "# read the product dataset with selected columns\n",
        "item_class = pd.read_csv(product_csv, \n",
        "                         usecols=['ITEM_KEY', 'CLASS_DESC'], \n",
        "                         dtype={'ITEM_KEY': 'str', 'CLASS_DESC': 'str'})"
      ],
      "execution_count": 0,
      "outputs": []
    },
    {
      "cell_type": "code",
      "metadata": {
        "id": "ztJW1cRTogiD",
        "colab_type": "code",
        "colab": {}
      },
      "source": [
        "# read the product dataset with sub_class and class\n",
        "item_subclass = pd.read_csv(product_csv, \n",
        "                            usecols=['ITEM_KEY', 'SBCLASS_DESC', 'CLASS_DESC'], \n",
        "                            dtype={'ITEM_KEY': 'str', \n",
        "                                   'SBCLASS_DESC': 'str', \n",
        "                                   'CLASS_DESC': 'str'})"
      ],
      "execution_count": 0,
      "outputs": []
    },
    {
      "cell_type": "code",
      "metadata": {
        "id": "zEA4WswnHzQu",
        "colab_type": "code",
        "outputId": "ea09ce7b-2ca0-431d-efdc-f282442fd2b9",
        "colab": {
          "base_uri": "https://localhost:8080/",
          "height": 204
        }
      },
      "source": [
        "item_class.head()"
      ],
      "execution_count": 0,
      "outputs": [
        {
          "output_type": "execute_result",
          "data": {
            "text/html": [
              "<div>\n",
              "<style scoped>\n",
              "    .dataframe tbody tr th:only-of-type {\n",
              "        vertical-align: middle;\n",
              "    }\n",
              "\n",
              "    .dataframe tbody tr th {\n",
              "        vertical-align: top;\n",
              "    }\n",
              "\n",
              "    .dataframe thead th {\n",
              "        text-align: right;\n",
              "    }\n",
              "</style>\n",
              "<table border=\"1\" class=\"dataframe\">\n",
              "  <thead>\n",
              "    <tr style=\"text-align: right;\">\n",
              "      <th></th>\n",
              "      <th>ITEM_KEY</th>\n",
              "      <th>CLASS_DESC</th>\n",
              "    </tr>\n",
              "  </thead>\n",
              "  <tbody>\n",
              "    <tr>\n",
              "      <th>0</th>\n",
              "      <td>511471</td>\n",
              "      <td>Red Table Wine</td>\n",
              "    </tr>\n",
              "    <tr>\n",
              "      <th>1</th>\n",
              "      <td>502792</td>\n",
              "      <td>Red Table Wine</td>\n",
              "    </tr>\n",
              "    <tr>\n",
              "      <th>2</th>\n",
              "      <td>33274</td>\n",
              "      <td>Miscellaneous</td>\n",
              "    </tr>\n",
              "    <tr>\n",
              "      <th>3</th>\n",
              "      <td>295019</td>\n",
              "      <td>Red Table Wine</td>\n",
              "    </tr>\n",
              "    <tr>\n",
              "      <th>4</th>\n",
              "      <td>505118</td>\n",
              "      <td>Red Table Wine</td>\n",
              "    </tr>\n",
              "  </tbody>\n",
              "</table>\n",
              "</div>"
            ],
            "text/plain": [
              "  ITEM_KEY      CLASS_DESC\n",
              "0   511471  Red Table Wine\n",
              "1   502792  Red Table Wine\n",
              "2    33274   Miscellaneous\n",
              "3   295019  Red Table Wine\n",
              "4   505118  Red Table Wine"
            ]
          },
          "metadata": {
            "tags": []
          },
          "execution_count": 56
        }
      ]
    },
    {
      "cell_type": "code",
      "metadata": {
        "id": "sJA8XB7bow8k",
        "colab_type": "code",
        "outputId": "b8428fdd-cc0c-4aea-858d-1867cc063a3e",
        "colab": {
          "base_uri": "https://localhost:8080/",
          "height": 459
        }
      },
      "source": [
        "item_class.CLASS_DESC.value_counts()"
      ],
      "execution_count": 0,
      "outputs": [
        {
          "output_type": "execute_result",
          "data": {
            "text/plain": [
              "Red Table Wine           343293\n",
              "White Table Wine          85094\n",
              "Sparkling                 17835\n",
              "Dessert                   12480\n",
              "Whiskey                   11406\n",
              "Miscellaneous             10166\n",
              "Rose Table Wine            8961\n",
              "Liquor or Cordials         7004\n",
              "Vodka                      6517\n",
              "Tequila                    4424\n",
              "Rum                        3860\n",
              "Brandy Cognac              3764\n",
              "Box                        1888\n",
              "Gin                        1452\n",
              "Rose or Blush              1146\n",
              "Cocktails  Mixers          1132\n",
              "Ready to Drink              884\n",
              "Supplies                    168\n",
              "Gift Cards                   94\n",
              "Bags                         17\n",
              "Towels                        5\n",
              "Register Tape                 4\n",
              "Saleman Sample Spirit         2\n",
              "Salesman Sample               2\n",
              "No Class                      1\n",
              "Name: CLASS_DESC, dtype: int64"
            ]
          },
          "metadata": {
            "tags": []
          },
          "execution_count": 14
        }
      ]
    },
    {
      "cell_type": "markdown",
      "metadata": {
        "id": "TcZjgbDXqC3A",
        "colab_type": "text"
      },
      "source": [
        "Check how many classes we have:"
      ]
    },
    {
      "cell_type": "code",
      "metadata": {
        "id": "TbR9x3bFp62M",
        "colab_type": "code",
        "outputId": "44639752-81d9-40ff-a8a7-47546b4f4e9a",
        "colab": {
          "base_uri": "https://localhost:8080/",
          "height": 34
        }
      },
      "source": [
        "item_class.CLASS_DESC.value_counts().shape[0]"
      ],
      "execution_count": 0,
      "outputs": [
        {
          "output_type": "execute_result",
          "data": {
            "text/plain": [
              "25"
            ]
          },
          "metadata": {
            "tags": []
          },
          "execution_count": 20
        }
      ]
    },
    {
      "cell_type": "code",
      "metadata": {
        "id": "XE3naeUloi6B",
        "colab_type": "code",
        "outputId": "7df74df8-8e21-468d-dc21-274110783e05",
        "colab": {
          "base_uri": "https://localhost:8080/",
          "height": 204
        }
      },
      "source": [
        "item_subclass.head()"
      ],
      "execution_count": 0,
      "outputs": [
        {
          "output_type": "execute_result",
          "data": {
            "text/html": [
              "<div>\n",
              "<style scoped>\n",
              "    .dataframe tbody tr th:only-of-type {\n",
              "        vertical-align: middle;\n",
              "    }\n",
              "\n",
              "    .dataframe tbody tr th {\n",
              "        vertical-align: top;\n",
              "    }\n",
              "\n",
              "    .dataframe thead th {\n",
              "        text-align: right;\n",
              "    }\n",
              "</style>\n",
              "<table border=\"1\" class=\"dataframe\">\n",
              "  <thead>\n",
              "    <tr style=\"text-align: right;\">\n",
              "      <th></th>\n",
              "      <th>ITEM_KEY</th>\n",
              "      <th>SBCLASS_DESC</th>\n",
              "      <th>CLASS_DESC</th>\n",
              "    </tr>\n",
              "  </thead>\n",
              "  <tbody>\n",
              "    <tr>\n",
              "      <th>0</th>\n",
              "      <td>511471</td>\n",
              "      <td>WA or OR Cabernet Sauvignon</td>\n",
              "      <td>Red Table Wine</td>\n",
              "    </tr>\n",
              "    <tr>\n",
              "      <th>1</th>\n",
              "      <td>502792</td>\n",
              "      <td>France Bordeaux</td>\n",
              "      <td>Red Table Wine</td>\n",
              "    </tr>\n",
              "    <tr>\n",
              "      <th>2</th>\n",
              "      <td>33274</td>\n",
              "      <td>Hi Proof Flavored</td>\n",
              "      <td>Miscellaneous</td>\n",
              "    </tr>\n",
              "    <tr>\n",
              "      <th>3</th>\n",
              "      <td>295019</td>\n",
              "      <td>California Zinfandel</td>\n",
              "      <td>Red Table Wine</td>\n",
              "    </tr>\n",
              "    <tr>\n",
              "      <th>4</th>\n",
              "      <td>505118</td>\n",
              "      <td>France Bordeaux</td>\n",
              "      <td>Red Table Wine</td>\n",
              "    </tr>\n",
              "  </tbody>\n",
              "</table>\n",
              "</div>"
            ],
            "text/plain": [
              "  ITEM_KEY                 SBCLASS_DESC      CLASS_DESC\n",
              "0   511471  WA or OR Cabernet Sauvignon  Red Table Wine\n",
              "1   502792              France Bordeaux  Red Table Wine\n",
              "2    33274            Hi Proof Flavored   Miscellaneous\n",
              "3   295019         California Zinfandel  Red Table Wine\n",
              "4   505118              France Bordeaux  Red Table Wine"
            ]
          },
          "metadata": {
            "tags": []
          },
          "execution_count": 13
        }
      ]
    },
    {
      "cell_type": "code",
      "metadata": {
        "id": "Qc3ntIm_ovxm",
        "colab_type": "code",
        "outputId": "f16832c3-4ff8-4826-c84b-dfc0ea6d5039",
        "colab": {
          "base_uri": "https://localhost:8080/",
          "height": 221
        }
      },
      "source": [
        "item_subclass.SBCLASS_DESC.value_counts()"
      ],
      "execution_count": 0,
      "outputs": [
        {
          "output_type": "execute_result",
          "data": {
            "text/plain": [
              "Imported                  125022\n",
              "Domestic                   63055\n",
              "Italy North                19979\n",
              "France Burgundy            18710\n",
              "Spain                      16682\n",
              "                           ...  \n",
              "Domestic Rose                  4\n",
              "Salesman Sample Spirit         2\n",
              "Rose                           2\n",
              "Salesman Sample                2\n",
              "No Subclass                    1\n",
              "Name: SBCLASS_DESC, Length: 158, dtype: int64"
            ]
          },
          "metadata": {
            "tags": []
          },
          "execution_count": 15
        }
      ]
    },
    {
      "cell_type": "markdown",
      "metadata": {
        "id": "nJTEOXcKqNW4",
        "colab_type": "text"
      },
      "source": [
        "Check how many subclasses we have:"
      ]
    },
    {
      "cell_type": "code",
      "metadata": {
        "id": "R7JbCRSFqHaI",
        "colab_type": "code",
        "outputId": "a07e18e7-a316-49c2-9b89-ed74d176dab4",
        "colab": {
          "base_uri": "https://localhost:8080/",
          "height": 34
        }
      },
      "source": [
        "item_subclass.SBCLASS_DESC.value_counts().shape[0]"
      ],
      "execution_count": 0,
      "outputs": [
        {
          "output_type": "execute_result",
          "data": {
            "text/plain": [
              "158"
            ]
          },
          "metadata": {
            "tags": []
          },
          "execution_count": 21
        }
      ]
    },
    {
      "cell_type": "markdown",
      "metadata": {
        "id": "dcsw4k7HpHn9",
        "colab_type": "text"
      },
      "source": [
        "Once we look at the subclass descriptions, we will find that it is not informative enough if it is not concatenated with class descriptions. Thus, we decide to concatenate them as a more detailed tag compared to class description."
      ]
    },
    {
      "cell_type": "code",
      "metadata": {
        "id": "e7OPrx24pnCR",
        "colab_type": "code",
        "colab": {}
      },
      "source": [
        "item_subclass[\"SUB_DESC\"] = item_subclass.SBCLASS_DESC + ' ' + item_subclass.CLASS_DESC"
      ],
      "execution_count": 0,
      "outputs": []
    },
    {
      "cell_type": "code",
      "metadata": {
        "id": "vSDJmx20p1Cm",
        "colab_type": "code",
        "outputId": "83b391e5-5170-49d9-e300-505997b54ed5",
        "colab": {
          "base_uri": "https://localhost:8080/",
          "height": 204
        }
      },
      "source": [
        "item_subclass.head()"
      ],
      "execution_count": 0,
      "outputs": [
        {
          "output_type": "execute_result",
          "data": {
            "text/html": [
              "<div>\n",
              "<style scoped>\n",
              "    .dataframe tbody tr th:only-of-type {\n",
              "        vertical-align: middle;\n",
              "    }\n",
              "\n",
              "    .dataframe tbody tr th {\n",
              "        vertical-align: top;\n",
              "    }\n",
              "\n",
              "    .dataframe thead th {\n",
              "        text-align: right;\n",
              "    }\n",
              "</style>\n",
              "<table border=\"1\" class=\"dataframe\">\n",
              "  <thead>\n",
              "    <tr style=\"text-align: right;\">\n",
              "      <th></th>\n",
              "      <th>ITEM_KEY</th>\n",
              "      <th>SBCLASS_DESC</th>\n",
              "      <th>CLASS_DESC</th>\n",
              "      <th>SUB_DESC</th>\n",
              "    </tr>\n",
              "  </thead>\n",
              "  <tbody>\n",
              "    <tr>\n",
              "      <th>0</th>\n",
              "      <td>511471</td>\n",
              "      <td>WA or OR Cabernet Sauvignon</td>\n",
              "      <td>Red Table Wine</td>\n",
              "      <td>WA or OR Cabernet Sauvignon Red Table Wine</td>\n",
              "    </tr>\n",
              "    <tr>\n",
              "      <th>1</th>\n",
              "      <td>502792</td>\n",
              "      <td>France Bordeaux</td>\n",
              "      <td>Red Table Wine</td>\n",
              "      <td>France Bordeaux Red Table Wine</td>\n",
              "    </tr>\n",
              "    <tr>\n",
              "      <th>2</th>\n",
              "      <td>33274</td>\n",
              "      <td>Hi Proof Flavored</td>\n",
              "      <td>Miscellaneous</td>\n",
              "      <td>Hi Proof Flavored Miscellaneous</td>\n",
              "    </tr>\n",
              "    <tr>\n",
              "      <th>3</th>\n",
              "      <td>295019</td>\n",
              "      <td>California Zinfandel</td>\n",
              "      <td>Red Table Wine</td>\n",
              "      <td>California Zinfandel Red Table Wine</td>\n",
              "    </tr>\n",
              "    <tr>\n",
              "      <th>4</th>\n",
              "      <td>505118</td>\n",
              "      <td>France Bordeaux</td>\n",
              "      <td>Red Table Wine</td>\n",
              "      <td>France Bordeaux Red Table Wine</td>\n",
              "    </tr>\n",
              "  </tbody>\n",
              "</table>\n",
              "</div>"
            ],
            "text/plain": [
              "  ITEM_KEY  ...                                    SUB_DESC\n",
              "0   511471  ...  WA or OR Cabernet Sauvignon Red Table Wine\n",
              "1   502792  ...              France Bordeaux Red Table Wine\n",
              "2    33274  ...             Hi Proof Flavored Miscellaneous\n",
              "3   295019  ...         California Zinfandel Red Table Wine\n",
              "4   505118  ...              France Bordeaux Red Table Wine\n",
              "\n",
              "[5 rows x 4 columns]"
            ]
          },
          "metadata": {
            "tags": []
          },
          "execution_count": 17
        }
      ]
    },
    {
      "cell_type": "markdown",
      "metadata": {
        "id": "F-pf20ciqX6Z",
        "colab_type": "text"
      },
      "source": [
        "Check how many concatenated subclasses we have:"
      ]
    },
    {
      "cell_type": "code",
      "metadata": {
        "id": "wxLCWLEnqS5D",
        "colab_type": "code",
        "outputId": "cc0626d0-31eb-4732-e8a4-bb7cc4d212da",
        "colab": {
          "base_uri": "https://localhost:8080/",
          "height": 34
        }
      },
      "source": [
        "item_subclass.SUB_DESC.value_counts().shape[0]"
      ],
      "execution_count": 0,
      "outputs": [
        {
          "output_type": "execute_result",
          "data": {
            "text/plain": [
              "230"
            ]
          },
          "metadata": {
            "tags": []
          },
          "execution_count": 22
        }
      ]
    },
    {
      "cell_type": "code",
      "metadata": {
        "id": "vkqdCxLoq_e2",
        "colab_type": "code",
        "colab": {}
      },
      "source": [
        "# delete useless columns\n",
        "item_subclass.drop(columns=[\"SBCLASS_DESC\", \"CLASS_DESC\"], inplace=True)"
      ],
      "execution_count": 0,
      "outputs": []
    },
    {
      "cell_type": "code",
      "metadata": {
        "id": "01rJOhQprKF1",
        "colab_type": "code",
        "outputId": "f3993f06-49f8-47c2-a393-ed83b3fc5933",
        "colab": {
          "base_uri": "https://localhost:8080/",
          "height": 204
        }
      },
      "source": [
        "item_subclass.head()"
      ],
      "execution_count": 0,
      "outputs": [
        {
          "output_type": "execute_result",
          "data": {
            "text/html": [
              "<div>\n",
              "<style scoped>\n",
              "    .dataframe tbody tr th:only-of-type {\n",
              "        vertical-align: middle;\n",
              "    }\n",
              "\n",
              "    .dataframe tbody tr th {\n",
              "        vertical-align: top;\n",
              "    }\n",
              "\n",
              "    .dataframe thead th {\n",
              "        text-align: right;\n",
              "    }\n",
              "</style>\n",
              "<table border=\"1\" class=\"dataframe\">\n",
              "  <thead>\n",
              "    <tr style=\"text-align: right;\">\n",
              "      <th></th>\n",
              "      <th>ITEM_KEY</th>\n",
              "      <th>SUB_DESC</th>\n",
              "    </tr>\n",
              "  </thead>\n",
              "  <tbody>\n",
              "    <tr>\n",
              "      <th>0</th>\n",
              "      <td>511471</td>\n",
              "      <td>WA or OR Cabernet Sauvignon Red Table Wine</td>\n",
              "    </tr>\n",
              "    <tr>\n",
              "      <th>1</th>\n",
              "      <td>502792</td>\n",
              "      <td>France Bordeaux Red Table Wine</td>\n",
              "    </tr>\n",
              "    <tr>\n",
              "      <th>2</th>\n",
              "      <td>33274</td>\n",
              "      <td>Hi Proof Flavored Miscellaneous</td>\n",
              "    </tr>\n",
              "    <tr>\n",
              "      <th>3</th>\n",
              "      <td>295019</td>\n",
              "      <td>California Zinfandel Red Table Wine</td>\n",
              "    </tr>\n",
              "    <tr>\n",
              "      <th>4</th>\n",
              "      <td>505118</td>\n",
              "      <td>France Bordeaux Red Table Wine</td>\n",
              "    </tr>\n",
              "  </tbody>\n",
              "</table>\n",
              "</div>"
            ],
            "text/plain": [
              "  ITEM_KEY                                    SUB_DESC\n",
              "0   511471  WA or OR Cabernet Sauvignon Red Table Wine\n",
              "1   502792              France Bordeaux Red Table Wine\n",
              "2    33274             Hi Proof Flavored Miscellaneous\n",
              "3   295019         California Zinfandel Red Table Wine\n",
              "4   505118              France Bordeaux Red Table Wine"
            ]
          },
          "metadata": {
            "tags": []
          },
          "execution_count": 24
        }
      ]
    },
    {
      "cell_type": "code",
      "metadata": {
        "id": "s3U2VOVpHsoS",
        "colab_type": "code",
        "colab": {}
      },
      "source": [
        "# change item_class to spark dataframe\n",
        "schema = StructType([StructField(\"item_key\", StringType(), True), StructField(\"class_desc\", StringType(), True)])\n",
        "\n",
        "df_class = spark.createDataFrame(item_class, schema=schema)"
      ],
      "execution_count": 0,
      "outputs": []
    },
    {
      "cell_type": "code",
      "metadata": {
        "id": "VSAfZ04ARk_J",
        "colab_type": "code",
        "outputId": "bbefd7c2-89ea-47d5-d21a-4108bbf71427",
        "colab": {
          "base_uri": "https://localhost:8080/",
          "height": 204
        }
      },
      "source": [
        "df_class.show(5)"
      ],
      "execution_count": 0,
      "outputs": [
        {
          "output_type": "stream",
          "text": [
            "+--------+--------------+\n",
            "|item_key|    class_desc|\n",
            "+--------+--------------+\n",
            "|  511471|Red Table Wine|\n",
            "|  502792|Red Table Wine|\n",
            "|   33274| Miscellaneous|\n",
            "|  295019|Red Table Wine|\n",
            "|  505118|Red Table Wine|\n",
            "+--------+--------------+\n",
            "only showing top 5 rows\n",
            "\n"
          ],
          "name": "stdout"
        }
      ]
    },
    {
      "cell_type": "code",
      "metadata": {
        "id": "hPalZx2MrRFl",
        "colab_type": "code",
        "colab": {}
      },
      "source": [
        "# change item_subclass to spark dataframe\n",
        "schema = StructType([StructField(\"item_key\", StringType(), True), StructField(\"sub_desc\", StringType(), True)])\n",
        "\n",
        "df_subclass = spark.createDataFrame(item_subclass, schema=schema)"
      ],
      "execution_count": 0,
      "outputs": []
    },
    {
      "cell_type": "markdown",
      "metadata": {
        "id": "6nKwTrC3ctb2",
        "colab_type": "text"
      },
      "source": [
        "## Join data"
      ]
    },
    {
      "cell_type": "code",
      "metadata": {
        "id": "U2S8fTIVHffZ",
        "colab_type": "code",
        "colab": {}
      },
      "source": [
        "# join the df_class and df_txn to get the class of each item listed in dataset\n",
        "txn_class = txn_ids.join(df_class, \"item_key\", \"left\")"
      ],
      "execution_count": 0,
      "outputs": []
    },
    {
      "cell_type": "code",
      "metadata": {
        "id": "hXksGU8oSgvz",
        "colab_type": "code",
        "outputId": "f98cb824-bf54-43a2-8941-5d697cfa4518",
        "colab": {
          "base_uri": "https://localhost:8080/",
          "height": 204
        }
      },
      "source": [
        "txn_class.show(5)"
      ],
      "execution_count": 0,
      "outputs": [
        {
          "output_type": "stream",
          "text": [
            "+--------+--------------+----------+\n",
            "|item_key|transaction_id|class_desc|\n",
            "+--------+--------------+----------+\n",
            "|  133979|   25617003530|       Gin|\n",
            "|  133979|   25598982888|       Gin|\n",
            "|  133979|   25611892972|       Gin|\n",
            "|  133979|   25582882489|       Gin|\n",
            "|  133979|   25619140916|       Gin|\n",
            "+--------+--------------+----------+\n",
            "only showing top 5 rows\n",
            "\n"
          ],
          "name": "stdout"
        }
      ]
    },
    {
      "cell_type": "code",
      "metadata": {
        "id": "jYtVuAMJTQmK",
        "colab_type": "code",
        "outputId": "e093b0c1-73b7-48a5-ad89-470011cb8d37",
        "colab": {
          "base_uri": "https://localhost:8080/",
          "height": 204
        }
      },
      "source": [
        "txn_class.select([\"transaction_id\", \"class_desc\"]).show(5)"
      ],
      "execution_count": 0,
      "outputs": [
        {
          "output_type": "stream",
          "text": [
            "+--------------+----------+\n",
            "|transaction_id|class_desc|\n",
            "+--------------+----------+\n",
            "|   25617003530|       Gin|\n",
            "|   25598982888|       Gin|\n",
            "|   25611892972|       Gin|\n",
            "|   25582882489|       Gin|\n",
            "|   25619140916|       Gin|\n",
            "+--------------+----------+\n",
            "only showing top 5 rows\n",
            "\n"
          ],
          "name": "stdout"
        }
      ]
    },
    {
      "cell_type": "code",
      "metadata": {
        "id": "eEzewqQurtyw",
        "colab_type": "code",
        "colab": {}
      },
      "source": [
        "# join the df_class and df_txn to get the class of each item listed in dataset\n",
        "txn_subclass = txn_ids.join(df_subclass, \"item_key\", \"left\")"
      ],
      "execution_count": 0,
      "outputs": []
    },
    {
      "cell_type": "code",
      "metadata": {
        "id": "EJbbg1Ltr0Wh",
        "colab_type": "code",
        "outputId": "61420166-2537-47c4-cc85-ba2219379ed6",
        "colab": {
          "base_uri": "https://localhost:8080/",
          "height": 204
        }
      },
      "source": [
        "txn_subclass.show(5)"
      ],
      "execution_count": 0,
      "outputs": [
        {
          "output_type": "stream",
          "text": [
            "+--------+--------------+--------------+\n",
            "|item_key|transaction_id|      sub_desc|\n",
            "+--------+--------------+--------------+\n",
            "|  133979|   25617003530|Unflavored Gin|\n",
            "|  133979|   25598982888|Unflavored Gin|\n",
            "|  133979|   25611892972|Unflavored Gin|\n",
            "|  133979|   25582882489|Unflavored Gin|\n",
            "|  133979|   25619140916|Unflavored Gin|\n",
            "+--------+--------------+--------------+\n",
            "only showing top 5 rows\n",
            "\n"
          ],
          "name": "stdout"
        }
      ]
    },
    {
      "cell_type": "markdown",
      "metadata": {
        "id": "zPFYcADecwhE",
        "colab_type": "text"
      },
      "source": [
        "## Collect to list"
      ]
    },
    {
      "cell_type": "code",
      "metadata": {
        "id": "RnJIP8jRHWjT",
        "colab_type": "code",
        "colab": {}
      },
      "source": [
        "# for class \n",
        "# group by transaction_id and gather the items to a list\n",
        "from pyspark.sql import functions as F\n",
        "df_txn = txn_class.select([\"transaction_id\", \"class_desc\"]).\\\n",
        "groupby(\"transaction_id\").agg(F.collect_set(\"class_desc\").alias(\"item_list_by_class\"))"
      ],
      "execution_count": 0,
      "outputs": []
    },
    {
      "cell_type": "code",
      "metadata": {
        "id": "DfptJxNDLfLz",
        "colab_type": "code",
        "outputId": "4a12ed8e-f441-440a-9c73-afac032e3c06",
        "colab": {
          "base_uri": "https://localhost:8080/",
          "height": 204
        }
      },
      "source": [
        "df_txn.show(5)"
      ],
      "execution_count": 0,
      "outputs": [
        {
          "output_type": "stream",
          "text": [
            "+--------------------+--------------------+\n",
            "|      transaction_id|  item_list_by_class|\n",
            "+--------------------+--------------------+\n",
            "|10000000000000012...|[Red Table Wine, ...|\n",
            "|10000000000000012...|[Red Table Wine, ...|\n",
            "|10000000000000012...|[Whiskey, Dessert...|\n",
            "|10000000000000012...|[Red Table Wine, ...|\n",
            "|10000000000000012...|[Red Table Wine, ...|\n",
            "+--------------------+--------------------+\n",
            "only showing top 5 rows\n",
            "\n"
          ],
          "name": "stdout"
        }
      ]
    },
    {
      "cell_type": "code",
      "metadata": {
        "id": "7mnRu5y6ICWT",
        "colab_type": "code",
        "outputId": "63ecaadb-6535-4d69-d1ae-3b1d18815a35",
        "colab": {
          "base_uri": "https://localhost:8080/",
          "height": 34
        }
      },
      "source": [
        "df_txn.count()"
      ],
      "execution_count": 0,
      "outputs": [
        {
          "output_type": "execute_result",
          "data": {
            "text/plain": [
              "66841392"
            ]
          },
          "metadata": {
            "tags": []
          },
          "execution_count": 60
        }
      ]
    },
    {
      "cell_type": "code",
      "metadata": {
        "id": "kLPCpBaUsJxF",
        "colab_type": "code",
        "colab": {}
      },
      "source": [
        "# for subclass \n",
        "# group by transaction_id and gather the items to a list\n",
        "from pyspark.sql import functions as F\n",
        "df_subtxn = txn_subclass.select([\"transaction_id\", \"sub_desc\"]).\\\n",
        "groupby(\"transaction_id\").agg(F.collect_set(\"sub_desc\").alias(\"item_list_by_subclass\"))"
      ],
      "execution_count": 0,
      "outputs": []
    },
    {
      "cell_type": "code",
      "metadata": {
        "id": "GxEq4SnHGD4E",
        "colab_type": "code",
        "outputId": "37191efb-ce2f-4f7e-8aa3-5dec6ad4c0d2",
        "colab": {
          "base_uri": "https://localhost:8080/",
          "height": 34
        }
      },
      "source": [
        "df_subtxn.count()"
      ],
      "execution_count": 0,
      "outputs": [
        {
          "output_type": "execute_result",
          "data": {
            "text/plain": [
              "66841392"
            ]
          },
          "metadata": {
            "tags": []
          },
          "execution_count": 50
        }
      ]
    },
    {
      "cell_type": "markdown",
      "metadata": {
        "id": "Da8IkcX-LC1d",
        "colab_type": "text"
      },
      "source": [
        "We have 66m transactions"
      ]
    },
    {
      "cell_type": "markdown",
      "metadata": {
        "id": "aLk8hl9EM56S",
        "colab_type": "text"
      },
      "source": [
        "# Frequent Pattern Mining"
      ]
    },
    {
      "cell_type": "markdown",
      "metadata": {
        "id": "FBT_HVOVsp-P",
        "colab_type": "text"
      },
      "source": [
        "## For Class"
      ]
    },
    {
      "cell_type": "code",
      "metadata": {
        "id": "rU3Gti9PdGnJ",
        "colab_type": "code",
        "colab": {}
      },
      "source": [
        "from pyspark.ml.fpm import FPGrowth"
      ],
      "execution_count": 0,
      "outputs": []
    },
    {
      "cell_type": "code",
      "metadata": {
        "id": "qWU-5W8Ex56u",
        "colab_type": "code",
        "colab": {}
      },
      "source": [
        "fpGrowth = FPGrowth(itemsCol=\"item_list_by_class\", minSupport=0.003, minConfidence=0.5)\n",
        "model = fpGrowth.fit(df_txn)"
      ],
      "execution_count": 0,
      "outputs": []
    },
    {
      "cell_type": "code",
      "metadata": {
        "id": "sWVeFbqqdrMb",
        "colab_type": "code",
        "outputId": "d8b6b338-7f4d-48a2-e9fe-f7162991bdc6",
        "colab": {
          "base_uri": "https://localhost:8080/",
          "height": 459
        }
      },
      "source": [
        "model.freqItemsets.show()"
      ],
      "execution_count": 0,
      "outputs": [
        {
          "output_type": "stream",
          "text": [
            "+--------------------+--------+\n",
            "|               items|    freq|\n",
            "+--------------------+--------+\n",
            "|             [Vodka]|18306576|\n",
            "|           [Whiskey]|14148619|\n",
            "|    [Whiskey, Vodka]| 2299482|\n",
            "|    [Red Table Wine]|12113437|\n",
            "|[Red Table Wine, ...| 1439321|\n",
            "|[Red Table Wine, ...|  390627|\n",
            "|[Red Table Wine, ...| 1340190|\n",
            "|  [White Table Wine]|10552459|\n",
            "|[White Table Wine...| 3239763|\n",
            "|[White Table Wine...|  490911|\n",
            "|[White Table Wine...|  224245|\n",
            "|[White Table Wine...|  490061|\n",
            "|[White Table Wine...| 1186360|\n",
            "|[White Table Wine...|  390164|\n",
            "|[White Table Wine...| 1346485|\n",
            "|               [Rum]| 6376457|\n",
            "|[Rum, Red Table W...|  520904|\n",
            "|[Rum, Red Table W...|  228710|\n",
            "|[Rum, Red Table W...|  237393|\n",
            "|      [Rum, Whiskey]| 1174363|\n",
            "+--------------------+--------+\n",
            "only showing top 20 rows\n",
            "\n"
          ],
          "name": "stdout"
        }
      ]
    },
    {
      "cell_type": "code",
      "metadata": {
        "id": "kAljynih9L9O",
        "colab_type": "code",
        "outputId": "fb5a8148-365e-48a8-b9d6-326403ef7e91",
        "colab": {
          "base_uri": "https://localhost:8080/",
          "height": 374
        }
      },
      "source": [
        "model.freqItemsets.sort(desc(\"freq\")).show(15, False)"
      ],
      "execution_count": 0,
      "outputs": [
        {
          "output_type": "stream",
          "text": [
            "+----------------------------------+--------+\n",
            "|items                             |freq    |\n",
            "+----------------------------------+--------+\n",
            "|[Vodka]                           |18306576|\n",
            "|[Whiskey]                         |14148619|\n",
            "|[Red Table Wine]                  |12113437|\n",
            "|[White Table Wine]                |10552459|\n",
            "|[Rum]                             |6376457 |\n",
            "|[Brandy Cognac]                   |5269276 |\n",
            "|[Liquor or Cordials]              |5163085 |\n",
            "|[Miscellaneous]                   |5080780 |\n",
            "|[Box]                             |5001738 |\n",
            "|[White Table Wine, Red Table Wine]|3239763 |\n",
            "|[Sparkling]                       |2963891 |\n",
            "|[Rose or Blush]                   |2824125 |\n",
            "|[Tequila]                         |2466084 |\n",
            "|[Whiskey, Vodka]                  |2299482 |\n",
            "|[Gin]                             |1991428 |\n",
            "+----------------------------------+--------+\n",
            "only showing top 15 rows\n",
            "\n"
          ],
          "name": "stdout"
        }
      ]
    },
    {
      "cell_type": "code",
      "metadata": {
        "id": "bgI4Pr8p9XBP",
        "colab_type": "code",
        "colab": {}
      },
      "source": [
        "freq_byclass = model.freqItemsets.sort(desc(\"freq\")).limit(15).toPandas()"
      ],
      "execution_count": 0,
      "outputs": []
    },
    {
      "cell_type": "code",
      "metadata": {
        "id": "ocx7QmT5NqNo",
        "colab_type": "code",
        "colab": {
          "base_uri": "https://localhost:8080/",
          "height": 419
        },
        "outputId": "210cf091-569e-46d0-a174-c94d01ad3c1d"
      },
      "source": [
        "freq_byclass.plot(x=\"items\", kind=\"barh\", figsize=(10,6))\n",
        "plt.title(\"Top 15 Frequent Items by Class\")\n",
        "plt.xticks(rotation=70)\n",
        "plt.ylabel(\"Class of Items\")\n",
        "plt.xlabel(\"Frequency\")\n",
        "plt.show()"
      ],
      "execution_count": 25,
      "outputs": [
        {
          "output_type": "display_data",
          "data": {
            "image/png": "[encoded data removed]",
            "text/plain": [
              "<Figure size 720x432 with 1 Axes>"
            ]
          },
          "metadata": {
            "tags": [],
            "needs_background": "light"
          }
        }
      ]
    },
    {
      "cell_type": "code",
      "metadata": {
        "id": "40FXPWKIT4VM",
        "colab_type": "code",
        "outputId": "cd2ac5a4-d63e-4a0b-b0b1-de10c0f08ea2",
        "colab": {
          "base_uri": "https://localhost:8080/",
          "height": 34
        }
      },
      "source": [
        "model.freqItemsets.count()"
      ],
      "execution_count": 0,
      "outputs": [
        {
          "output_type": "execute_result",
          "data": {
            "text/plain": [
              "126"
            ]
          },
          "metadata": {
            "tags": []
          },
          "execution_count": 17
        }
      ]
    },
    {
      "cell_type": "code",
      "metadata": {
        "id": "9HyimU7w9n7Q",
        "colab_type": "code",
        "outputId": "79d82b32-a334-47f1-9461-d9c738c18aef",
        "colab": {
          "base_uri": "https://localhost:8080/",
          "height": 459
        }
      },
      "source": [
        "model.associationRules.show()"
      ],
      "execution_count": 0,
      "outputs": [
        {
          "output_type": "stream",
          "text": [
            "+--------------------+--------------------+------------------+------------------+\n",
            "|          antecedent|          consequent|        confidence|              lift|\n",
            "+--------------------+--------------------+------------------+------------------+\n",
            "|[Tequila, Rum, Wh...|             [Vodka]|0.8794699430469171|3.2111409154511827|\n",
            "|[Tequila, Rum, Wh...|[Liquor or Cordials]|0.7850276025810963|10.162981573021415|\n",
            "|[Tequila, Liquor ...|           [Whiskey]|0.9171705122835133| 4.332928446400538|\n",
            "|[Liquor or Cordia...|             [Vodka]|0.7945844032408504| 2.901204877094862|\n",
            "|[White Table Wine...|    [Red Table Wine]|0.5747454916394131|  3.17141936734411|\n",
            "|[White Table Wine...|[Liquor or Cordials]|0.5182359213048872| 6.709091631150972|\n",
            "|[Rum, Whiskey, Vo...|[Liquor or Cordials]|0.6377436798389664| 8.256241239421557|\n",
            "|[Liquor or Cordia...|           [Tequila]| 0.561698722417091|15.224430510469215|\n",
            "|      [Tequila, Rum]|           [Whiskey]|0.6799245331603472|3.2121228404968543|\n",
            "|      [Tequila, Rum]|             [Vodka]|0.7145902556662028| 2.609128402731613|\n",
            "|      [Tequila, Rum]|[Liquor or Cordials]|0.6115388995904785| 7.916993679316883|\n",
            "|   [Gin, Rum, Vodka]|           [Whiskey]|0.8480266378568173| 4.006276579179181|\n",
            "|[Tequila, Liquor ...|               [Rum]|0.7499837809229508| 7.861726330831225|\n",
            "|[Tequila, Liquor ...|           [Whiskey]|0.8397760060095949| 3.967298660730188|\n",
            "|[Gin, Liquor or C...|             [Vodka]|0.8761172917715258| 3.198899637883071|\n",
            "|[Tequila, Liquor ...|           [Whiskey]|0.8728136943706679| 4.123376443199015|\n",
            "|[Tequila, Liquor ...|             [Vodka]|0.8892757660167131| 3.246944162164645|\n",
            "|[Liquor or Cordia...|           [Whiskey]| 0.566888676494045|  2.67811496273238|\n",
            "|[Liquor or Cordia...|             [Vodka]|0.5729662112178807| 2.092027429201898|\n",
            "| [Gin, Rum, Whiskey]|             [Vodka]|0.8989178718892731| 3.282149641241305|\n",
            "+--------------------+--------------------+------------------+------------------+\n",
            "only showing top 20 rows\n",
            "\n"
          ],
          "name": "stdout"
        }
      ]
    },
    {
      "cell_type": "code",
      "metadata": {
        "id": "12-qaj1suKr_",
        "colab_type": "code",
        "outputId": "82ca3422-9e48-42f9-83e5-d0941037b5d5",
        "colab": {
          "base_uri": "https://localhost:8080/",
          "height": 34
        }
      },
      "source": [
        "model.associationRules.count()"
      ],
      "execution_count": 0,
      "outputs": [
        {
          "output_type": "execute_result",
          "data": {
            "text/plain": [
              "48"
            ]
          },
          "metadata": {
            "tags": []
          },
          "execution_count": 19
        }
      ]
    },
    {
      "cell_type": "code",
      "metadata": {
        "id": "ipYzTaZXQYv3",
        "colab_type": "code",
        "outputId": "80dc5887-dce1-43d6-f531-3ea5e2c424de",
        "colab": {
          "base_uri": "https://localhost:8080/",
          "height": 34
        }
      },
      "source": [
        "model.associationRules.filter(\"confidence>0.6\").count()"
      ],
      "execution_count": 0,
      "outputs": [
        {
          "output_type": "execute_result",
          "data": {
            "text/plain": [
              "37"
            ]
          },
          "metadata": {
            "tags": []
          },
          "execution_count": 21
        }
      ]
    },
    {
      "cell_type": "code",
      "metadata": {
        "id": "-ZCN-DU-QejK",
        "colab_type": "code",
        "outputId": "e6f5eb9d-ff8e-4470-dedd-4b510f699c5c",
        "colab": {
          "base_uri": "https://localhost:8080/",
          "height": 34
        }
      },
      "source": [
        "model.associationRules.filter(\"confidence>0.7\").count()"
      ],
      "execution_count": 0,
      "outputs": [
        {
          "output_type": "execute_result",
          "data": {
            "text/plain": [
              "28"
            ]
          },
          "metadata": {
            "tags": []
          },
          "execution_count": 22
        }
      ]
    },
    {
      "cell_type": "code",
      "metadata": {
        "id": "1f6kLt1JQhQp",
        "colab_type": "code",
        "outputId": "181ffa12-22a5-4efe-d6a7-8f2c87201476",
        "colab": {
          "base_uri": "https://localhost:8080/",
          "height": 34
        }
      },
      "source": [
        "model.associationRules.filter(\"confidence>0.8\").count()"
      ],
      "execution_count": 0,
      "outputs": [
        {
          "output_type": "execute_result",
          "data": {
            "text/plain": [
              "14"
            ]
          },
          "metadata": {
            "tags": []
          },
          "execution_count": 23
        }
      ]
    },
    {
      "cell_type": "code",
      "metadata": {
        "id": "cerogFvLQjK9",
        "colab_type": "code",
        "outputId": "a6990ed9-d877-4dd4-8710-a73556871ee7",
        "colab": {
          "base_uri": "https://localhost:8080/",
          "height": 34
        }
      },
      "source": [
        "model.associationRules.filter(\"confidence>0.9\").count()"
      ],
      "execution_count": 0,
      "outputs": [
        {
          "output_type": "execute_result",
          "data": {
            "text/plain": [
              "2"
            ]
          },
          "metadata": {
            "tags": []
          },
          "execution_count": 24
        }
      ]
    },
    {
      "cell_type": "code",
      "metadata": {
        "id": "SsvMHiT8nHbK",
        "colab_type": "code",
        "outputId": "87b3b47f-5974-43e8-bef7-e7c8684282c4",
        "colab": {
          "base_uri": "https://localhost:8080/",
          "height": 340
        }
      },
      "source": [
        "model.associationRules.filter(\"confidence>0.8\").show(20, False)"
      ],
      "execution_count": 0,
      "outputs": [
        {
          "output_type": "stream",
          "text": [
            "+---------------------------------------------+--------------------+------------------+------------------+\n",
            "|antecedent                                   |consequent          |confidence        |lift              |\n",
            "+---------------------------------------------+--------------------+------------------+------------------+\n",
            "|[Tequila, Rum, Whiskey]                      |[Vodka]             |0.8794699430469171|3.2111409154511827|\n",
            "|[Tequila, Liquor or Cordials, Rum, Vodka]    |[Whiskey]           |0.9171705122835133|4.332928446400538 |\n",
            "|[Gin, Rum, Vodka]                            |[Whiskey]           |0.8480266378568173|4.006276579179181 |\n",
            "|[Tequila, Liquor or Cordials, Vodka]         |[Whiskey]           |0.8397760060095949|3.967298660730188 |\n",
            "|[Gin, Liquor or Cordials, Whiskey]           |[Vodka]             |0.8761172917715258|3.198899637883071 |\n",
            "|[Tequila, Liquor or Cordials, Rum]           |[Whiskey]           |0.8728136943706679|4.123376443199015 |\n",
            "|[Tequila, Liquor or Cordials, Rum]           |[Vodka]             |0.8892757660167131|3.246944162164645 |\n",
            "|[Gin, Rum, Whiskey]                          |[Vodka]             |0.8989178718892731|3.282149641241305 |\n",
            "|[Tequila, Liquor or Cordials, Whiskey]       |[Vodka]             |0.8476778051596671|3.095060729236146 |\n",
            "|[Tequila, Rum, Whiskey, Vodka]               |[Liquor or Cordials]|0.8341207305610878|10.798542097749708|\n",
            "|[Tequila, Rum, Vodka]                        |[Whiskey]           |0.8368056878934768|3.9532661818314234|\n",
            "|[Tequila, Liquor or Cordials, Rum, Whiskey]  |[Vodka]             |0.9344691944447021|3.41195544911307  |\n",
            "|[Tequila, Liquor or Cordials, Whiskey, Vodka]|[Rum]               |0.819102955586909 |8.586270046632977 |\n",
            "|[Gin, Liquor or Cordials, Vodka]             |[Whiskey]           |0.8603855429900887|4.064662943438746 |\n",
            "+---------------------------------------------+--------------------+------------------+------------------+\n",
            "\n"
          ],
          "name": "stdout"
        }
      ]
    },
    {
      "cell_type": "code",
      "metadata": {
        "id": "WsWH-Q58puMc",
        "colab_type": "code",
        "outputId": "554dc52d-32ad-449b-92d6-33da736125a9",
        "colab": {
          "base_uri": "https://localhost:8080/",
          "height": 578
        }
      },
      "source": [
        "model.associationRules.filter(\"confidence>0.7\").show(40, False)\n"
      ],
      "execution_count": 0,
      "outputs": [
        {
          "output_type": "stream",
          "text": [
            "+-----------------------------------------------+--------------------+------------------+------------------+\n",
            "|antecedent                                     |consequent          |confidence        |lift              |\n",
            "+-----------------------------------------------+--------------------+------------------+------------------+\n",
            "|[Tequila, Rum, Whiskey]                        |[Vodka]             |0.8794699430469171|3.2111409154511827|\n",
            "|[Tequila, Rum, Whiskey]                        |[Liquor or Cordials]|0.7850276025810963|10.162981573021415|\n",
            "|[Tequila, Liquor or Cordials, Rum, Vodka]      |[Whiskey]           |0.9171705122835133|4.332928446400538 |\n",
            "|[Liquor or Cordials, Rum, Whiskey]             |[Vodka]             |0.7945844032408504|2.901204877094862 |\n",
            "|[Tequila, Rum]                                 |[Vodka]             |0.7145902556662028|2.609128402731613 |\n",
            "|[Gin, Rum, Vodka]                              |[Whiskey]           |0.8480266378568173|4.006276579179181 |\n",
            "|[Tequila, Liquor or Cordials, Vodka]           |[Rum]               |0.7499837809229508|7.861726330831225 |\n",
            "|[Tequila, Liquor or Cordials, Vodka]           |[Whiskey]           |0.8397760060095949|3.967298660730188 |\n",
            "|[Gin, Liquor or Cordials, Whiskey]             |[Vodka]             |0.8761172917715258|3.198899637883071 |\n",
            "|[Tequila, Liquor or Cordials, Rum]             |[Whiskey]           |0.8728136943706679|4.123376443199015 |\n",
            "|[Tequila, Liquor or Cordials, Rum]             |[Vodka]             |0.8892757660167131|3.246944162164645 |\n",
            "|[Gin, Rum, Whiskey]                            |[Vodka]             |0.8989178718892731|3.282149641241305 |\n",
            "|[Tequila, Liquor or Cordials, Whiskey]         |[Rum]               |0.7430265221362469|7.788796667570337 |\n",
            "|[Tequila, Liquor or Cordials, Whiskey]         |[Vodka]             |0.8476778051596671|3.095060729236146 |\n",
            "|[Liquor or Cordials, White Table Wine, Whiskey]|[Vodka]             |0.735523932164917 |2.6855619245901923|\n",
            "|[Tequila, Whiskey, Vodka]                      |[Liquor or Cordials]|0.7101532970856518|9.193657456848863 |\n",
            "|[Tequila, Rum, Whiskey, Vodka]                 |[Liquor or Cordials]|0.8341207305610878|10.798542097749708|\n",
            "|[Liquor or Cordials, Rum, Vodka]               |[Whiskey]           |0.7861561325903876|3.713985812444174 |\n",
            "|[Gin, Rum]                                     |[Whiskey]           |0.7146451406649617|3.376151127405568 |\n",
            "|[Gin, Rum]                                     |[Vodka]             |0.7575319693094629|2.765918176787717 |\n",
            "|[Tequila, Rum, Vodka]                          |[Whiskey]           |0.8368056878934768|3.9532661818314234|\n",
            "|[Tequila, Rum, Vodka]                          |[Liquor or Cordials]|0.7610329403041443|9.852346240238521 |\n",
            "|[Liquor or Cordials, White Table Wine, Vodka]  |[Whiskey]           |0.7137254763535217|3.37180641766751  |\n",
            "|[Tequila, Liquor or Cordials, Rum, Whiskey]    |[Vodka]             |0.9344691944447021|3.41195544911307  |\n",
            "|[Tequila, Liquor or Cordials, Whiskey, Vodka]  |[Rum]               |0.819102955586909 |8.586270046632977 |\n",
            "|[Gin, Liquor or Cordials, Vodka]               |[Whiskey]           |0.8603855429900887|4.064662943438746 |\n",
            "|[Gin, Liquor or Cordials]                      |[Whiskey]           |0.7155924562046289|3.380626468026062 |\n",
            "|[Gin, Liquor or Cordials]                      |[Vodka]             |0.7286767308564083|2.6605612654409914|\n",
            "+-----------------------------------------------+--------------------+------------------+------------------+\n",
            "\n"
          ],
          "name": "stdout"
        }
      ]
    },
    {
      "cell_type": "code",
      "metadata": {
        "id": "W8m880t7p05y",
        "colab_type": "code",
        "outputId": "29799352-1a4f-4599-e23c-75de752b8f87",
        "colab": {
          "base_uri": "https://localhost:8080/",
          "height": 578
        }
      },
      "source": [
        "model.associationRules.filter(\"confidence>0.7\").sort(desc(\"confidence\")).show(40, False)\n"
      ],
      "execution_count": 0,
      "outputs": [
        {
          "output_type": "stream",
          "text": [
            "+-----------------------------------------------+--------------------+------------------+------------------+\n",
            "|antecedent                                     |consequent          |confidence        |lift              |\n",
            "+-----------------------------------------------+--------------------+------------------+------------------+\n",
            "|[Tequila, Liquor or Cordials, Rum, Whiskey]    |[Vodka]             |0.9344691944447021|3.41195544911307  |\n",
            "|[Tequila, Liquor or Cordials, Rum, Vodka]      |[Whiskey]           |0.9171705122835133|4.332928446400538 |\n",
            "|[Gin, Rum, Whiskey]                            |[Vodka]             |0.8989178718892731|3.282149641241305 |\n",
            "|[Tequila, Liquor or Cordials, Rum]             |[Vodka]             |0.8892757660167131|3.246944162164645 |\n",
            "|[Tequila, Rum, Whiskey]                        |[Vodka]             |0.8794699430469171|3.2111409154511827|\n",
            "|[Gin, Liquor or Cordials, Whiskey]             |[Vodka]             |0.8761172917715258|3.198899637883071 |\n",
            "|[Tequila, Liquor or Cordials, Rum]             |[Whiskey]           |0.8728136943706679|4.123376443199015 |\n",
            "|[Gin, Liquor or Cordials, Vodka]               |[Whiskey]           |0.8603855429900887|4.064662943438746 |\n",
            "|[Gin, Rum, Vodka]                              |[Whiskey]           |0.8480266378568173|4.006276579179181 |\n",
            "|[Tequila, Liquor or Cordials, Whiskey]         |[Vodka]             |0.8476778051596671|3.095060729236146 |\n",
            "|[Tequila, Liquor or Cordials, Vodka]           |[Whiskey]           |0.8397760060095949|3.967298660730188 |\n",
            "|[Tequila, Rum, Vodka]                          |[Whiskey]           |0.8368056878934768|3.9532661818314234|\n",
            "|[Tequila, Rum, Whiskey, Vodka]                 |[Liquor or Cordials]|0.8341207305610878|10.798542097749708|\n",
            "|[Tequila, Liquor or Cordials, Whiskey, Vodka]  |[Rum]               |0.819102955586909 |8.586270046632977 |\n",
            "|[Liquor or Cordials, Rum, Whiskey]             |[Vodka]             |0.7945844032408504|2.901204877094862 |\n",
            "|[Liquor or Cordials, Rum, Vodka]               |[Whiskey]           |0.7861561325903876|3.713985812444174 |\n",
            "|[Tequila, Rum, Whiskey]                        |[Liquor or Cordials]|0.7850276025810963|10.162981573021415|\n",
            "|[Tequila, Rum, Vodka]                          |[Liquor or Cordials]|0.7610329403041443|9.852346240238521 |\n",
            "|[Gin, Rum]                                     |[Vodka]             |0.7575319693094629|2.765918176787717 |\n",
            "|[Tequila, Liquor or Cordials, Vodka]           |[Rum]               |0.7499837809229508|7.861726330831225 |\n",
            "|[Tequila, Liquor or Cordials, Whiskey]         |[Rum]               |0.7430265221362469|7.788796667570337 |\n",
            "|[Liquor or Cordials, White Table Wine, Whiskey]|[Vodka]             |0.735523932164917 |2.6855619245901923|\n",
            "|[Gin, Liquor or Cordials]                      |[Vodka]             |0.7286767308564083|2.6605612654409914|\n",
            "|[Gin, Liquor or Cordials]                      |[Whiskey]           |0.7155924562046289|3.380626468026062 |\n",
            "|[Gin, Rum]                                     |[Whiskey]           |0.7146451406649617|3.376151127405568 |\n",
            "|[Tequila, Rum]                                 |[Vodka]             |0.7145902556662028|2.609128402731613 |\n",
            "|[Liquor or Cordials, White Table Wine, Vodka]  |[Whiskey]           |0.7137254763535217|3.37180641766751  |\n",
            "|[Tequila, Whiskey, Vodka]                      |[Liquor or Cordials]|0.7101532970856518|9.193657456848863 |\n",
            "+-----------------------------------------------+--------------------+------------------+------------------+\n",
            "\n"
          ],
          "name": "stdout"
        }
      ]
    },
    {
      "cell_type": "markdown",
      "metadata": {
        "id": "PSdUS3hLsuxN",
        "colab_type": "text"
      },
      "source": [
        "## For Subclass"
      ]
    },
    {
      "cell_type": "code",
      "metadata": {
        "id": "cjtPsJCbQVSG",
        "colab_type": "code",
        "colab": {}
      },
      "source": [
        "# adjust the min-support and min-confidence for subclass\n",
        "# we have 230 concatenated subclasses while only 25 classes\n",
        "# so we decrease both min-support and min-confidence\n",
        "fpGrowth = FPGrowth(itemsCol=\"item_list_by_subclass\", minSupport=0.0025, minConfidence=0.3)\n",
        "submodel = fpGrowth.fit(df_subtxn)"
      ],
      "execution_count": 0,
      "outputs": []
    },
    {
      "cell_type": "code",
      "metadata": {
        "id": "BwZ7YNa2wLh2",
        "colab_type": "code",
        "outputId": "46c6ecda-9310-47dc-95d3-6a629ef2b580",
        "colab": {
          "base_uri": "https://localhost:8080/",
          "height": 459
        }
      },
      "source": [
        "submodel.freqItemsets.sort(desc(\"freq\")).show(20, False)"
      ],
      "execution_count": 0,
      "outputs": [
        {
          "output_type": "stream",
          "text": [
            "+----------------------------------------------+--------+\n",
            "|items                                         |freq    |\n",
            "+----------------------------------------------+--------+\n",
            "|[Unflavored Vodka]                            |14637097|\n",
            "|[American Whiskey]                            |6592636 |\n",
            "|[Flavored Vodka]                              |4361207 |\n",
            "|[Canadian Whiskey]                            |3188793 |\n",
            "|[Flavored Whiskey]                            |2987665 |\n",
            "|[California Cabernet Sauvignon Red Table Wine]|2914326 |\n",
            "|[California Chardonnay White Table Wine]      |2717021 |\n",
            "|[Unflavored Rum]                              |2526872 |\n",
            "|[Flavored Rum]                                |2256568 |\n",
            "|[Red Box]                                     |2248743 |\n",
            "|[California Red Blend Red Table Wine]         |2242968 |\n",
            "|[Brandy Brandy Cognac]                        |2223916 |\n",
            "|[Beverage Miscellaneous]                      |2160243 |\n",
            "|[Spiced Rum]                                  |2064565 |\n",
            "|[Unflavored Gin]                              |1971760 |\n",
            "|[Schnapps Liquor or Cordials]                 |1940166 |\n",
            "|[California Rose or Blush]                    |1886933 |\n",
            "|[Flavored Brandy Cognac]                      |1788896 |\n",
            "|[Scotch Whiskey]                              |1596517 |\n",
            "|[White Box]                                   |1570418 |\n",
            "+----------------------------------------------+--------+\n",
            "only showing top 20 rows\n",
            "\n"
          ],
          "name": "stdout"
        }
      ]
    },
    {
      "cell_type": "code",
      "metadata": {
        "id": "F2uN0C7Ajsep",
        "colab_type": "code",
        "colab": {}
      },
      "source": [
        "freq_bysubclass = submodel.freqItemsets.sort(desc(\"freq\")).limit(15).toPandas()"
      ],
      "execution_count": 0,
      "outputs": []
    },
    {
      "cell_type": "code",
      "metadata": {
        "id": "Jf0ROJCEpOTb",
        "colab_type": "code",
        "outputId": "b0ce60d1-b943-4a91-e4d9-52f8acdfd73c",
        "colab": {
          "base_uri": "https://localhost:8080/",
          "height": 514
        }
      },
      "source": [
        "freq_bysubclass"
      ],
      "execution_count": 0,
      "outputs": [
        {
          "output_type": "execute_result",
          "data": {
            "text/html": [
              "<div>\n",
              "<style scoped>\n",
              "    .dataframe tbody tr th:only-of-type {\n",
              "        vertical-align: middle;\n",
              "    }\n",
              "\n",
              "    .dataframe tbody tr th {\n",
              "        vertical-align: top;\n",
              "    }\n",
              "\n",
              "    .dataframe thead th {\n",
              "        text-align: right;\n",
              "    }\n",
              "</style>\n",
              "<table border=\"1\" class=\"dataframe\">\n",
              "  <thead>\n",
              "    <tr style=\"text-align: right;\">\n",
              "      <th></th>\n",
              "      <th>items</th>\n",
              "      <th>freq</th>\n",
              "    </tr>\n",
              "  </thead>\n",
              "  <tbody>\n",
              "    <tr>\n",
              "      <th>0</th>\n",
              "      <td>[Unflavored Vodka]</td>\n",
              "      <td>14637097</td>\n",
              "    </tr>\n",
              "    <tr>\n",
              "      <th>1</th>\n",
              "      <td>[American Whiskey]</td>\n",
              "      <td>6592636</td>\n",
              "    </tr>\n",
              "    <tr>\n",
              "      <th>2</th>\n",
              "      <td>[Flavored Vodka]</td>\n",
              "      <td>4361207</td>\n",
              "    </tr>\n",
              "    <tr>\n",
              "      <th>3</th>\n",
              "      <td>[Canadian Whiskey]</td>\n",
              "      <td>3188793</td>\n",
              "    </tr>\n",
              "    <tr>\n",
              "      <th>4</th>\n",
              "      <td>[Flavored Whiskey]</td>\n",
              "      <td>2987665</td>\n",
              "    </tr>\n",
              "    <tr>\n",
              "      <th>5</th>\n",
              "      <td>[California Cabernet Sauvignon Red Table Wine]</td>\n",
              "      <td>2914326</td>\n",
              "    </tr>\n",
              "    <tr>\n",
              "      <th>6</th>\n",
              "      <td>[California Chardonnay White Table Wine]</td>\n",
              "      <td>2717021</td>\n",
              "    </tr>\n",
              "    <tr>\n",
              "      <th>7</th>\n",
              "      <td>[Unflavored Rum]</td>\n",
              "      <td>2526872</td>\n",
              "    </tr>\n",
              "    <tr>\n",
              "      <th>8</th>\n",
              "      <td>[Flavored Rum]</td>\n",
              "      <td>2256568</td>\n",
              "    </tr>\n",
              "    <tr>\n",
              "      <th>9</th>\n",
              "      <td>[Red Box]</td>\n",
              "      <td>2248743</td>\n",
              "    </tr>\n",
              "    <tr>\n",
              "      <th>10</th>\n",
              "      <td>[California Red Blend Red Table Wine]</td>\n",
              "      <td>2242968</td>\n",
              "    </tr>\n",
              "    <tr>\n",
              "      <th>11</th>\n",
              "      <td>[Brandy Brandy Cognac]</td>\n",
              "      <td>2223916</td>\n",
              "    </tr>\n",
              "    <tr>\n",
              "      <th>12</th>\n",
              "      <td>[Beverage Miscellaneous]</td>\n",
              "      <td>2160243</td>\n",
              "    </tr>\n",
              "    <tr>\n",
              "      <th>13</th>\n",
              "      <td>[Spiced Rum]</td>\n",
              "      <td>2064565</td>\n",
              "    </tr>\n",
              "    <tr>\n",
              "      <th>14</th>\n",
              "      <td>[Unflavored Gin]</td>\n",
              "      <td>1971760</td>\n",
              "    </tr>\n",
              "  </tbody>\n",
              "</table>\n",
              "</div>"
            ],
            "text/plain": [
              "                                             items      freq\n",
              "0                               [Unflavored Vodka]  14637097\n",
              "1                               [American Whiskey]   6592636\n",
              "2                                 [Flavored Vodka]   4361207\n",
              "3                               [Canadian Whiskey]   3188793\n",
              "4                               [Flavored Whiskey]   2987665\n",
              "5   [California Cabernet Sauvignon Red Table Wine]   2914326\n",
              "6         [California Chardonnay White Table Wine]   2717021\n",
              "7                                 [Unflavored Rum]   2526872\n",
              "8                                   [Flavored Rum]   2256568\n",
              "9                                        [Red Box]   2248743\n",
              "10           [California Red Blend Red Table Wine]   2242968\n",
              "11                          [Brandy Brandy Cognac]   2223916\n",
              "12                        [Beverage Miscellaneous]   2160243\n",
              "13                                    [Spiced Rum]   2064565\n",
              "14                                [Unflavored Gin]   1971760"
            ]
          },
          "metadata": {
            "tags": []
          },
          "execution_count": 103
        }
      ]
    },
    {
      "cell_type": "code",
      "metadata": {
        "id": "VUREoJmtphQN",
        "colab_type": "code",
        "outputId": "e69cff78-1ca9-4d6c-f68e-a45ed8a483ad",
        "colab": {
          "base_uri": "https://localhost:8080/",
          "height": 413
        }
      },
      "source": [
        "freq_bysubclass.plot(x=\"items\", kind=\"barh\", figsize=(10,6))\n",
        "plt.title(\"Top 15 Frequent Items by Sub-Class\")\n",
        "plt.xticks(rotation=70)\n",
        "plt.ylabel(\"Sub-Class of Items\")\n",
        "plt.xlabel(\"Frequency\")\n",
        "plt.show()"
      ],
      "execution_count": 28,
      "outputs": [
        {
          "output_type": "display_data",
          "data": {
            "image/png": "[encoded data removed]",
            "text/plain": [
              "<Figure size 720x432 with 1 Axes>"
            ]
          },
          "metadata": {
            "tags": [],
            "needs_background": "light"
          }
        }
      ]
    },
    {
      "cell_type": "code",
      "metadata": {
        "id": "vMOUHZeHcEh-",
        "colab_type": "code",
        "outputId": "e5395a80-89c6-4d10-aa30-097021ae8ead",
        "colab": {
          "base_uri": "https://localhost:8080/",
          "height": 459
        }
      },
      "source": [
        "submodel.associationRules.show()"
      ],
      "execution_count": 0,
      "outputs": [
        {
          "output_type": "stream",
          "text": [
            "+--------------------+--------------------+-------------------+------------------+\n",
            "|          antecedent|          consequent|         confidence|              lift|\n",
            "+--------------------+--------------------+-------------------+------------------+\n",
            "|[Flavored Whiskey...|  [American Whiskey]| 0.3509225848477973|3.5579325258462444|\n",
            "|[Schnapps Liquor ...|  [Unflavored Vodka]| 0.6596959158451413| 3.012550460778124|\n",
            "|[Schnapps Liquor ...|  [Canadian Whiskey]| 0.4861035265714368|10.189383999570943|\n",
            "|[Non Alcohol Cock...|  [Unflavored Vodka]| 0.3408082269448083|1.5563261139857782|\n",
            "|[Flavored Whiskey...|  [Unflavored Vodka]|0.49040074461991656| 2.239451471028151|\n",
            "|[Flavored Rum, Un...|  [American Whiskey]|0.47919987998708335| 4.858509862302362|\n",
            "|[Unflavored Gin, ...|  [Unflavored Vodka]| 0.6469781656672575|2.9544739087816456|\n",
            "|[Spiced Rum, Amer...|  [Unflavored Vodka]|  0.639350362584034|2.9196409787283333|\n",
            "|[Canadian Whiskey...|    [Flavored Vodka]|0.31282978138645146|4.7945392289166975|\n",
            "|[Canadian Whiskey...|  [American Whiskey]|0.47480693171125027| 4.813970655566137|\n",
            "|[Canadian Whiskey...|[Schnapps Liquor ...| 0.3201375275974351|11.029178934199948|\n",
            "|[Flavored Rum, Am...|  [Unflavored Vodka]| 0.6350861822041751| 2.900168281899935|\n",
            "|[Flavored Vodka, ...|  [American Whiskey]|0.34624447759813104|3.5105021504253986|\n",
            "|[Canadian Whiskey...|  [Unflavored Vodka]|  0.644802347000409|2.9445378710255428|\n",
            "|[Unflavored Gin, ...|  [American Whiskey]| 0.4956755480563251|5.0255533010540345|\n",
            "|[Unflavored Rum, ...|  [Unflavored Vodka]|  0.689831822822634|3.1501683211747675|\n",
            "|[Schnapps Liquor ...|  [American Whiskey]| 0.6707515367836605| 6.800613048370799|\n",
            "|[Schnapps Liquor ...|  [Unflavored Vodka]| 0.6975570097164386|3.1854459616414568|\n",
            "|[Schnapps Liquor ...|    [Flavored Vodka]|0.34168828352755043| 5.236834780158827|\n",
            "|[Schnapps Liquor ...|  [American Whiskey]|0.46083667290410146| 4.672329050406973|\n",
            "+--------------------+--------------------+-------------------+------------------+\n",
            "only showing top 20 rows\n",
            "\n"
          ],
          "name": "stdout"
        }
      ]
    },
    {
      "cell_type": "code",
      "metadata": {
        "id": "1jUKtsKI4J_n",
        "colab_type": "code",
        "outputId": "5ee93a29-3dc9-40f6-c35c-39b215c1b1dc",
        "colab": {
          "base_uri": "https://localhost:8080/",
          "height": 34
        }
      },
      "source": [
        "submodel.associationRules.count()"
      ],
      "execution_count": 0,
      "outputs": [
        {
          "output_type": "execute_result",
          "data": {
            "text/plain": [
              "30"
            ]
          },
          "metadata": {
            "tags": []
          },
          "execution_count": 68
        }
      ]
    },
    {
      "cell_type": "code",
      "metadata": {
        "id": "Qd09xCJHcN2D",
        "colab_type": "code",
        "outputId": "36375106-fdf1-4b64-93e7-faafde9e125f",
        "colab": {
          "base_uri": "https://localhost:8080/",
          "height": 34
        }
      },
      "source": [
        "submodel.associationRules.filter(\"confidence>0.6\").count()"
      ],
      "execution_count": 0,
      "outputs": [
        {
          "output_type": "execute_result",
          "data": {
            "text/plain": [
              "11"
            ]
          },
          "metadata": {
            "tags": []
          },
          "execution_count": 70
        }
      ]
    },
    {
      "cell_type": "code",
      "metadata": {
        "id": "LYSvaarsHvzE",
        "colab_type": "code",
        "outputId": "5d61559d-452f-4e01-e213-fa5f5587fece",
        "colab": {
          "base_uri": "https://localhost:8080/",
          "height": 340
        }
      },
      "source": [
        "submodel.associationRules.filter(\"confidence>0.5\").sort(desc(\"confidence\")).show(20, False)"
      ],
      "execution_count": 0,
      "outputs": [
        {
          "output_type": "stream",
          "text": [
            "+-----------------------------------------------+------------------+------------------+------------------+\n",
            "|antecedent                                     |consequent        |confidence        |lift              |\n",
            "+-----------------------------------------------+------------------+------------------+------------------+\n",
            "|[Schnapps Liquor or Cordials, Canadian Whiskey]|[Unflavored Vodka]|0.6975570097164386|3.1854459616414568|\n",
            "|[Unflavored Rum, American Whiskey]             |[Unflavored Vodka]|0.689831822822634 |3.1501683211747675|\n",
            "|[Schnapps Liquor or Cordials, Canadian Whiskey]|[American Whiskey]|0.6707515367836605|6.800613048370799 |\n",
            "|[Irish Whiskey, American Whiskey]              |[Unflavored Vodka]|0.664329653661414 |3.033710769123605 |\n",
            "|[Schnapps Liquor or Cordials, American Whiskey]|[Unflavored Vodka]|0.6596959158451413|3.012550460778124 |\n",
            "|[Unflavored Gin, American Whiskey]             |[Unflavored Vodka]|0.6469781656672575|2.9544739087816456|\n",
            "|[Canadian Whiskey, Flavored Vodka]             |[Unflavored Vodka]|0.644802347000409 |2.9445378710255428|\n",
            "|[Spiced Rum, American Whiskey]                 |[Unflavored Vodka]|0.639350362584034 |2.9196409787283333|\n",
            "|[Flavored Rum, American Whiskey]               |[Unflavored Vodka]|0.6350861822041751|2.900168281899935 |\n",
            "|[Canadian Whiskey, American Whiskey]           |[Unflavored Vodka]|0.6190542862295798|2.8269574366523327|\n",
            "|[Irish Whiskey, Unflavored Vodka]              |[American Whiskey]|0.6095667557403008|6.180273030485181 |\n",
            "|[Flavored Vodka, American Whiskey]             |[Unflavored Vodka]|0.5813460133450813|2.6547598041903946|\n",
            "|[Schnapps Liquor or Cordials, Flavored Vodka]  |[Unflavored Vodka]|0.5799934565679699|2.6485832530791216|\n",
            "|[Spiced Rum, Unflavored Vodka]                 |[American Whiskey]|0.5053612362322821|5.123754518315068 |\n",
            "+-----------------------------------------------+------------------+------------------+------------------+\n",
            "\n"
          ],
          "name": "stdout"
        }
      ]
    }
  ]
}